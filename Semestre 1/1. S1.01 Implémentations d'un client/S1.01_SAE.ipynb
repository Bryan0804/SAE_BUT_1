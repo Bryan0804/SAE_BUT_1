{
 "cells": [
  {
   "cell_type": "markdown",
   "metadata": {
    "deletable": false,
    "editable": false,
    "run_control": {
     "frozen": true
    }
   },
   "source": [
    "# <center> Etude de communautés dans un réseau social</center>\n",
    "<center> SAE 1.01 / 2022 - 23 </center>\n",
    "\n"
   ]
  },
  {
   "cell_type": "markdown",
   "metadata": {
    "deletable": false,
    "editable": false,
    "run_control": {
     "frozen": true
    }
   },
   "source": [
    "Cette SAE est à faire en **binôme**.\n",
    "\n",
    "**Calendrier**\n",
    "- Un contrôle de 2h en lien avec le contenu de cette SAE aura lieu le mercredi **26 octobre** 2022.\n",
    "- Le projet est à rendre le vendredi **28 octobre** 2022. Les modalités de rendu vous seront précisées par votre enseignant.\n",
    "\n",
    "**Evaluation**\n",
    "- Le projet comptera pour 40% de la note de SAE 1.01. <BR>\n",
    "    Il sera particulièrement tenu compte de la qualité du code, des **commentaires** et **docstrings**, des fonctions de **tests unitaires** pour les fonctions renvoyant des résultats. <BR><BR>\n",
    "    \n",
    "- Le contrôle compte pour 60% de la note finale."
   ]
  },
  {
   "cell_type": "markdown",
   "metadata": {
    "deletable": false,
    "editable": false,
    "run_control": {
     "frozen": true
    }
   },
   "source": [
    "## <center> Sujet </center>\n",
    "\n",
    "Une *communauté* est un ensemble de personnes développant des interactions dans un réseau social.\n",
    "\n",
    "Dans ce projet, on étudie des communautés modélisées sous différentes formes. Pour cela, on développe des fonctions permettant d'extraire des informations relatives à ces réseaux. "
   ]
  },
  {
   "cell_type": "markdown",
   "metadata": {
    "deletable": false,
    "editable": false,
    "run_control": {
     "frozen": true
    }
   },
   "source": [
    "On modélise, dans un premier temps, les interactions entre personnes dans un tableau `amis` de chaînes de caractères contenant les prénoms des membres du réseau et tel que `amis[2*i]` a des interactions avec `amis[2*i+1]`.\n",
    "\n",
    "On suppose que chaque interaction n'est décrite qu'une seule fois dans le tableau, et qu'une personne n'a pas d'interaction avec elle-même.\n",
    "\n",
    "**Exemple** : "
   ]
  },
  {
   "cell_type": "code",
   "execution_count": null,
   "metadata": {
    "deletable": false,
    "editable": false
   },
   "outputs": [],
   "source": [
    "amis = [\"Alice\", \"Bob\", \"Alice\", \"Charlie\", \"Bob\", \"Denis\"]"
   ]
  },
  {
   "cell_type": "markdown",
   "metadata": {
    "deletable": false,
    "editable": false,
    "run_control": {
     "frozen": true
    }
   },
   "source": [
    "Ici, \n",
    "- Alice a des interactions Bob et Charlie, \n",
    "- Bob a des intractions avec Alice et Denis,\n",
    "- Charlie a des interactions avec Alice et\n",
    "- Denis a des interactions avec Bob."
   ]
  },
  {
   "cell_type": "markdown",
   "metadata": {
    "deletable": false,
    "editable": false,
    "run_control": {
     "frozen": true
    }
   },
   "source": [
    "#### Question préliminaire : Modélisation d'un réseau par un tableau\n",
    "\n",
    "Muriel, Yasmine et Joël sont amis. Yasmine est amie avec Thomas. \n",
    "Joël, Nassim, Andrea et Ali sont amis. Thomas est ami de Daria et Carole. Thierry, Axel et Léo sont amis. Léo est ami de Valentin qui est ami d'Andrea.\n",
    "\n",
    "- Construire un tableau `p_amis` qui modélise ce réseau d'amitié en selon le principe qui vient d'être décrit."
   ]
  },
  {
   "cell_type": "code",
   "execution_count": null,
   "metadata": {},
   "outputs": [],
   "source": [
    "p_amis=[\"Muriel\",\"Yasmine\",\"Muriel\",\"Joël\",\"Yasmine\",\"Joël\",\"Yasmine\",\"Thomas\",\"Joël\",\"Nassim\",\"Joël\",\n",
    "\"Andrea\",\"Joël\",\"Ali\",\"Nassim\",\"Andrea\",\"Nassim\",\"Ali\",\"Andrea\",\"Ali\",\"Thomas\",\"Daria\",\"Thomas\",\n",
    "\"Carole\",\"Daria\",\"Carole\",\"Thierry\",\"Axel\",\"Thierry\",\"Léo\",\"Axel\",\"Léo\",\"Léo\",\"Valentin\",\"Valentin\",\n",
    "\"Andrea\"]"
   ]
  },
  {
   "cell_type": "markdown",
   "metadata": {
    "deletable": false,
    "editable": false,
    "run_control": {
     "frozen": true
    }
   },
   "source": [
    "#### Question 1 : Nombre d'amis d'une personne\n",
    "\n",
    "- Étant donné un tableau `amis`, écrire une fonction `nb_amis(amis, prenom)` qui retourne le nombre d'amis de `prenom` à partir des données du tableau `amis`. "
   ]
  },
  {
   "cell_type": "code",
   "execution_count": null,
   "metadata": {},
   "outputs": [],
   "source": [
    "def nb_amis(amis,prenom):\n",
    "\n",
    "    \"\"\"\n",
    "\n",
    "    Retourne le nombre d'amis de prenom selon le tableau amis\n",
    "\n",
    "    \"\"\"\n",
    "\n",
    "    i=0 #Initialisation d'une variable pour la boucle\n",
    "\n",
    "    res=0 #Initialisation d'une variable pour le résultat \n",
    "\n",
    "    while i<len(amis): #Boucle permettant de parcourrir tout le tableau \n",
    "\n",
    "        if amis[i]==prenom: #Condition de présence du prénom dans le tableau \n",
    "\n",
    "            res+=1 #Incrémentation de la variable res\n",
    "\n",
    "        i+=1 #Incrémentation de la variable i\n",
    "\n",
    "    return res #Renvoi du résultat"
   ]
  },
  {
   "cell_type": "code",
   "execution_count": null,
   "metadata": {},
   "outputs": [],
   "source": [
    "def test_nb_amis():\n",
    "\n",
    "    \"\"\"\n",
    "\n",
    "    Fonction de test pour la fonction nb_amis()\n",
    "\n",
    "    \"\"\"\n",
    "    assert nb_amis(p_amis,\"Thierry\")==2\n",
    "    assert nb_amis(p_amis,\"Yasmine\")==3\n",
    "    assert not nb_amis(p_amis,\"Thomas\")==5 \n",
    "    print(\"Fonction nb_amis: OK.\")\n",
    "test_nb_amis()"
   ]
  },
  {
   "cell_type": "markdown",
   "metadata": {
    "deletable": false,
    "editable": false,
    "run_control": {
     "frozen": true
    }
   },
   "source": [
    "#### Question 2 : Nombre de membres d'un réseau social \n",
    "\n",
    "- Ecrire une fonction `taille_reseau(amis)` qui à partir d'un tableau `amis`retourne le nombre de personnes distinctes participant à ce réseau social."
   ]
  },
  {
   "cell_type": "code",
   "execution_count": null,
   "metadata": {},
   "outputs": [],
   "source": [
    "def taille_reseau(amis):\n",
    "\n",
    "    \"\"\"\n",
    "    Retourne le nombre d'éléments distincts présents dans le tableau amis\n",
    "\n",
    "    \"\"\"\n",
    "\n",
    "    i=0 #Initialisation d'une variable pour la boucle \n",
    "\n",
    "    res=[amis[0]] #Création d'un tableau comprennant le premier élément du tableau amis\n",
    "\n",
    "    while i<len(amis): #Boucle permettant de parcourrir tout le tableau amis\n",
    "\n",
    "        n=0 #Initialisation d'une variable pour la boucle imbriquée \n",
    "\n",
    "        diff=True #Initialisation d'une variable permettant de tester l'unicité de l'élément dans le tableau res\n",
    "\n",
    "        while n<len(res) and diff==True: #Boucle imbriquée testant l'unicité de l'élément dans le tableau res\n",
    "\n",
    "            if amis[i]==res[n]: #Test si l'élément amis[i] est deja présent dans le tableau res\n",
    "\n",
    "                diff=False #Modification de variable pour mettre fin au test en cas de non unicité de l'élément amis[i]\n",
    "\n",
    "            else: #Test si l'élément n'est pas présent dans le tableau renvoyé \n",
    "\n",
    "                n+=1 #Incrémentation de n\n",
    "\n",
    "        if diff==True: #Test si l'élément est absent dans le tableau amis\n",
    "\n",
    "            res.append(amis[i]) #Ajout de l'élément amis [i] dans le tableau res\n",
    "\n",
    "        i+=1 #Incrémentation de I\n",
    "\n",
    "    return len(res) #Renvoi de la longueur de res représentant le nombre d'éléments distincts présents dans la liste \n",
    "taille_reseau(p_amis)"
   ]
  },
  {
   "cell_type": "code",
   "execution_count": null,
   "metadata": {},
   "outputs": [],
   "source": [
    "def test_taille_reseau():\n",
    "    \"\"\"\n",
    "    Fonction de test pour la fonction taille_reseau()\n",
    "    \"\"\"\n",
    "assert taille_reseau(p_amis)==13\n",
    "assert not taille_reseau(p_amis)==18\n",
    "print(\"Fonction taille_reseau: OK.\")\n",
    "test_taille_reseau()"
   ]
  },
  {
   "cell_type": "markdown",
   "metadata": {
    "deletable": false,
    "editable": false,
    "run_control": {
     "frozen": true
    }
   },
   "source": [
    "#### Question 3 :  Lecture des données d'un réseau à partir d'un fichier\n",
    "On suppose que les données sur un réseau social sont stockées dans un fichier CSV de la manière suivante :\n",
    "```\n",
    "prenom1;prenom2\n",
    "prenom3;prenom4\n",
    "prenom5;prenom6\n",
    "...\n",
    "```\n",
    "Autrement dit, chaque ligne du fichier contient une paire de prénoms séparés par un `';'` correspondant à deux personnes ayant des interactions. \n",
    "\n",
    "**NB** : Quatre fichiers CSV de ce type sont fournis dans le répertoire `files/`, il s'agit des fichiers`Communaute1.csv`, `Communaute2.csv`,`Communaute3.csv` et `Communaute4.csv`. \n",
    "Il est recommandé d'en fabriquer d'autres. \n",
    "\n",
    "- Ecrire une fonction `lecture_reseau(path)` prenant en paramètre un chemin vers un tel fichier CSV et retournant un tableau modélisant les interactions entre les personnes du fichier."
   ]
  },
  {
   "cell_type": "code",
   "execution_count": null,
   "metadata": {},
   "outputs": [],
   "source": [
    "def lecture_reseau(path):\n",
    "    \"\"\"\n",
    "    \n",
    "    Retourne sous forme d'un tableau un fichier CSV représentant un réseau social sous la forme expliquée précédemment \n",
    "    \n",
    "    \"\"\"\n",
    "    res=[] #Initialisation d'un tableau vide \n",
    "    f=open(path,encoding=\"utf-8\",mode=\"r\") #Ouverture du fichier placé en paramètre en mode lecture \n",
    "    li=f.readline() #Lecture de la première ligne du fichier \n",
    "    while(\"\"!=li): #Boucle permettant de parcourrir tout le fichier dont la variable de fin est définie a la lecture d'une ligne vide \n",
    "        li=li.strip() #Supression des caractères \" \" et \"\\n\"\n",
    "        tab=li.split(\";\") #Création d'un tableau a partir de la ligne en séparant les valeurs au niveau des caractères \";\"\n",
    "        res.append(tab[0]) #Ajout au tableau res la première valeur du tableau tab représentant la ligne\n",
    "        res.append(tab[1]) #Ajout au tableau res la deuxième valeur du tableau tab représentant la ligne\n",
    "        li=f.readline() #Lecture de la ligne suivante \n",
    "    f.close() #Fermeture du fichier a la fin de la lecture de celui ci \n",
    "    return res #Renvoi du résultat "
   ]
  },
  {
   "cell_type": "code",
   "execution_count": null,
   "metadata": {},
   "outputs": [],
   "source": [
    "def test_lecture_reseau():\n",
    "    \"\"\"\n",
    "    Fonction de test pour la fonction lecture_reseau()\n",
    "    \"\"\"\n",
    "    assert lecture_reseau(\"newfiles/Communaute1.csv\")==['Barbra', 'Cloe', 'Louis', 'Rufino', 'Idelle', 'Mady', 'Björn', 'Giedrius', 'Cloe', 'Glenys', 'Barbra', 'Vittorio', 'Mady', 'Rufino', 'Barbra', 'Marwa', 'Cloe', 'Louis', 'Björn', 'Faizel', 'Giedrius', 'Rufino', 'Mady', 'Vittore', 'Giedrius', 'Louis', 'Cloe', 'Placide', 'Cloe', 'Teodor', 'Kirsa', 'Vittorio', 'Idelle', 'Marwa', 'Placide', 'Rufino', 'Giedrius', 'Illtyd', 'Björn', 'Cloe', 'Björn', 'Rufino', 'Louis', 'Placide', 'Barbra', 'Rufino', 'Louis', 'Vittorio', 'Olavi', 'Placide', 'Rufino', 'Teodor', 'Louis', 'Olavi', 'Faizel', 'Rufino', 'Olavi', 'Vittorio', 'Barbra', 'Louis', 'Placide', 'Vittorio', 'Barbra', 'Kirsa', 'Illtyd', 'Rufino', 'Jakob', 'Mady', 'Barbra', 'Vittore', 'Björn', 'Idelle', 'Cloe', 'Vittore', 'Olavi', 'Teodor', 'Jakob', 'Placide', 'Cain', 'Vittorio', 'Barbra', 'Faizel', 'Giedrius', 'Mady', 'Kirsa', 'Vittore', 'Barbra', 'Mady', 'Jakob', 'Kirsa', 'Björn', 'Mady', 'Björn', 'Teodor', 'Cloe', 'Vittorio', 'Illtyd', 'Olavi', 'Olavi', 'Rufino', 'Giedrius', 'Glenys', 'Rufino', 'Vittorio', 'Björn', 'Olavi', 'Björn', 'Louis', 'Louis', 'Vittore', 'Mady', 'Teodor', 'Vittore', 'Vittorio', 'Faizel', 'Placide', 'Cloe', 'Mady', 'Cain', 'Placide', 'Mady', 'Vittorio', 'Cloe', 'Idelle', 'Mady', 'Placide', 'Giedrius', 'Vittorio', 'Faizel', 'Olavi', 'Björn', 'Vittore', 'Idelle', 'Illtyd', 'Barbra', 'Olavi']\n",
    "    assert len(lecture_reseau(\"newfiles/Communaute1.csv\"))==136\n",
    "    print(\"Fonction lecture_reseau: OK.\")"
   ]
  },
  {
   "cell_type": "markdown",
   "metadata": {
    "deletable": false,
    "editable": false,
    "run_control": {
     "frozen": true
    }
   },
   "source": [
    "#### Question 4 : Modélisation d'un réseau par un dictionnaire\n",
    "On préfère pour la suite, utiliser une modélisation du réseau social par un dictionnaire dont où les clés sont les prénoms des personnes du réseau et la valeur associé à une clé est le tableau des amis de la personne indiquée par la clé.\n",
    "\n",
    "- A partir d'un tableau `amis` modélisant les interactions entre personnes d'un réseau, écrire une fonction `dico_reseau(amis)` qui retourne un dictionnaire dont les clés sont les prénoms des membres du réseau et les valeurs le tableau de leurs amis."
   ]
  },
  {
   "cell_type": "code",
   "execution_count": null,
   "metadata": {},
   "outputs": [],
   "source": [
    "def dico_reseau(amis):\n",
    "    \"\"\"\n",
    "    \n",
    "    Transforme un tableau amis en dictionnaire tel que les clés sont tout les éléments distincts du réseau social et les \n",
    "    valeurs correspondantes un tableau citant toutes leurs liaisons au sein du réseau social amis\n",
    "    \n",
    "    \"\"\"\n",
    "    dico={} #Initialisation d'un dictionnaire vide \n",
    "    n=0 #Initialisation d'une variable implémentable pour la boucle \n",
    "    while n<len(amis)-1: #Boucle permettant de parcourrir tout le tableau placé en paramètre sans sortir de celui ci \n",
    "        if not amis[n] in dico: #Test de présence de l'élement dans le dictionnaire sous forme de clé \n",
    "            dico[str(amis[n])]=[] #Ajout de l'élément dans le dictionnaire sous forme de clé \n",
    "        if not amis[n+1] in dico[str(amis[n])] and n%2==0: #Test de présence de l'élément d'indice n+1 dans le tableau de l'élément d'indice n avec n pair\n",
    "            dico[str(amis[n])].append(str(amis[n+1])) #Ajout de l'élément d'indice n+1 dans le tableau de l'élément d'indice n\n",
    "        elif not amis[n-1] in dico[str(amis[n])] and n%2!=0: #Test de présence de l'élément d'indice n-1 dans le tableau de l'élément d'indice n avec n impair\n",
    "            dico[str(amis[n])].append(str(amis[n-1])) #Ajout de l'élément d'indice n-1 dans le tableau de l'élément d'indice n\n",
    "        n+=1 #Incrémentation de i\n",
    "    return dico #Renvoi du dictionnaire \n",
    "dico_reseau(p_amis)"
   ]
  },
  {
   "cell_type": "code",
   "execution_count": null,
   "metadata": {},
   "outputs": [],
   "source": [
    "def test_dico_reseau():\n",
    "    \"\"\"\n",
    "    Fonction de test pour la fonction dico_reseau()\n",
    "    \"\"\"\n",
    "    assert len(list(dico_reseau(lecture_reseau(\"newfiles/Communaute1.csv\"))))==taille_reseau(lecture_reseau(\"newfiles/Communaute1.csv\"))\n",
    "    assert dico_reseau(p_amis)[\"Muriel\"]==['Yasmine', 'Joël']\n",
    "    \n",
    "    \n",
    "    print(\"Fonction dico_reseau: OK.\")\n",
    "test_dico_reseau()"
   ]
  },
  {
   "cell_type": "markdown",
   "metadata": {
    "deletable": false,
    "editable": false,
    "run_control": {
     "frozen": true
    }
   },
   "source": [
    "#### Question 5 : Nombre d'amis des personnes les plus populaires\n",
    "\n",
    "- A partir d'un dictionnaire `dico_reseau` modélisant les interactions dans un réseau d'amis, écrire une fonction `nb_amis_plus_pop (dico_reseau)` qui retourne le nombre d'amis des personnes les plus populaires du réseau."
   ]
  },
  {
   "cell_type": "code",
   "execution_count": null,
   "metadata": {},
   "outputs": [],
   "source": [
    "def nb_amis_plus_pop(dico_reseau):\n",
    "    \"\"\"\n",
    "    \n",
    "    Retourne le nombre d'amis que possède la personne la plus populaire du réseau social représenté par un dictionnaire \n",
    "    \n",
    "    \"\"\"\n",
    "    res=0 #Initialisation de la variable renvoyée en fin de programme a une valeur basse pour qu'elle soie remplacée dés la premeière boucle\n",
    "    tab=list(dico_reseau)#Récupération des prénoms des éléments uniques du réseau \n",
    "    i=0 #Initialisation d'une variable pour la boucle \n",
    "    while i<len(tab): #Boucle parcourrant tout le dictionnaire via la longueur du tableau contennant les clés \n",
    "        if res<len(dico_reseau[tab[i]]): #Test si le nombre d'amis de l'élément est superieur a la variable \n",
    "            res=len(dico_reseau[tab[i]]) #Remplacement de la variable par le nombre d'amis supérieur\n",
    "        i+=1 #Incrémentation de i\n",
    "    return res #Renvoi du résultat\n",
    "nb_amis_plus_pop(dico_reseau(lecture_reseau(\"newfiles/Communaute4.csv\")))"
   ]
  },
  {
   "cell_type": "code",
   "execution_count": null,
   "metadata": {},
   "outputs": [],
   "source": [
    "def test_nb_amis_plus_pop():\n",
    "    \"\"\"\n",
    "    Fonction de test pour la fonction nb_amis_plus_pop()\n",
    "    \"\"\"\n",
    "    assert nb_amis_plus_pop(dico_reseau(p_amis))==5\n",
    "    assert nb_amis_plus_pop(dico_reseau(lecture_reseau(\"newfiles/Communaute1.csv\")))==11\n",
    "    assert nb_amis_plus_pop(dico_reseau(lecture_reseau(\"newfiles/Communaute4.csv\")))==20\n",
    "    print(\"Fonction nb_amis_plus_pop: OK.\")\n",
    "test_nb_amis_plus_pop()"
   ]
  },
  {
   "cell_type": "markdown",
   "metadata": {
    "deletable": false,
    "editable": false,
    "run_control": {
     "frozen": true
    }
   },
   "source": [
    "#### Question 6 : Personnes les plus populaires\n",
    "\n",
    "- A partir d'un dictionnaire `dico_reseau` modélisant les interactions dans un réseau d'amis, écrire une fonction `les_plus_pop (dico_reseau)` qui retourne un tableau contenant les prénoms de toutes les personnes les plus populaires du réseau."
   ]
  },
  {
   "cell_type": "code",
   "execution_count": null,
   "metadata": {},
   "outputs": [],
   "source": [
    "def les_plus_pop(dico_reseau):\n",
    "    \"\"\"\n",
    "    Retourne un tableau listant les éléments du réseau social présentant le nombre maximal d'amis du dit réseau .\n",
    "    \n",
    "    \"\"\"\n",
    "    res=[] #Initialisation d'un tableau vide \n",
    "    tab=list(dico_reseau) #Récupération des prénoms des éléments uniques du réseau \n",
    "    i=0 #Initialisation d'une variable pour la boucle \n",
    "    while i<len(tab): #Boucle parcourrant tout le dictionnaire via la longueur du tableau contennant les clés \n",
    "        if len(dico_reseau[tab[i]])==nb_amis_plus_pop(dico_reseau):#Test si l'élément présente le bon nombre d'amis \n",
    "            res.append(tab[i]) #Ajout de l'élément au tableau \n",
    "        i+=1 #Incrémentation de i\n",
    "    return res #Renvoi du résultat"
   ]
  },
  {
   "cell_type": "code",
   "execution_count": null,
   "metadata": {},
   "outputs": [],
   "source": [
    "def test_les_plus_pop():\n",
    "    \"\"\"\n",
    "    Fonction de test pour la fonction les_plus_pop()\n",
    "    \"\"\"\n",
    "    assert les_plus_pop(dico_reseau(p_amis))==['Joël']\n",
    "    assert les_plus_pop(dico_reseau(lecture_reseau(\"newfiles/Communaute1.csv\")))==['Rufino', 'Mady', 'Vittorio']\n",
    "    assert len(les_plus_pop(dico_reseau(lecture_reseau(\"newfiles/Communaute4.csv\"))))==1189\n",
    "    \n",
    "    print(\"Fonction nb_amis_plus_pop: OK.\")\n",
    "    \n",
    "test_les_plus_pop()"
   ]
  },
  {
   "cell_type": "code",
   "execution_count": null,
   "metadata": {},
   "outputs": [],
   "source": []
  },
  {
   "cell_type": "code",
   "execution_count": null,
   "metadata": {},
   "outputs": [],
   "source": []
  }
 ],
 "metadata": {
  "kernelspec": {
   "display_name": "Python 3 (ipykernel)",
   "language": "python",
   "name": "python3"
  },
  "language_info": {
   "codemirror_mode": {
    "name": "ipython",
    "version": 3
   },
   "file_extension": ".py",
   "mimetype": "text/x-python",
   "name": "python",
   "nbconvert_exporter": "python",
   "pygments_lexer": "ipython3",
   "version": "3.10.7"
  },
  "latex_envs": {
   "LaTeX_envs_menu_present": true,
   "autoclose": false,
   "autocomplete": true,
   "bibliofile": "biblio.bib",
   "cite_by": "apalike",
   "current_citInitial": 1,
   "eqLabelWithNumbers": true,
   "eqNumInitial": 1,
   "hotkeys": {
    "equation": "Ctrl-E",
    "itemize": "Ctrl-I"
   },
   "labels_anchors": false,
   "latex_user_defs": false,
   "report_style_numbering": false,
   "user_envs_cfg": false
  }
 },
 "nbformat": 4,
 "nbformat_minor": 2
}
